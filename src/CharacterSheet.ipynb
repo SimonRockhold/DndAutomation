{
 "metadata": {
  "language_info": {
   "codemirror_mode": {
    "name": "ipython",
    "version": 3
   },
   "file_extension": ".py",
   "mimetype": "text/x-python",
   "name": "python",
   "nbconvert_exporter": "python",
   "pygments_lexer": "ipython3",
   "version": "3.7.3"
  },
  "orig_nbformat": 4,
  "kernelspec": {
   "name": "python3",
   "display_name": "Python 3.7.3 64-bit ('.venv': venv)"
  },
  "interpreter": {
   "hash": "e362ca9823cf5ff6a228050ddc964fbd6d54e72ab2aeb822fa32e0d2f8906f64"
  }
 },
 "nbformat": 4,
 "nbformat_minor": 2,
 "cells": [
  {
   "cell_type": "code",
   "execution_count": 42,
   "metadata": {},
   "outputs": [],
   "source": [
    "class Character:\n",
    "    \"'Describes the state of a character\"\n",
    "    def __init__(self, statArray, proficiencyBonus) -> None:\n",
    "        self.profBonus = proficiencyBonus\n",
    "\n",
    "        self.strength     = statArray[0]\n",
    "        self.dexterity    = statArray[1]\n",
    "        self.constitution = statArray[2]\n",
    "        self.intelligence = statArray[3]\n",
    "        self.wisdom       = statArray[4]\n",
    "        self.charisma     = statArray[5]\n",
    "\n",
    "        self.enhancedWeapon = False\n",
    "        self.repeatingShot = False\n",
    "        self.enhancedDefence = False\n",
    "\n",
    "    def _getMod(self, i:int):\n",
    "        return (i - 10) // 2\n",
    "\n",
    "    def strMod(self):\n",
    "        return self._getMod(self.strength)\n",
    "\n",
    "    def dexMod(self):\n",
    "        return self._getMod(self.dexterity)\n",
    "\n",
    "    def conMod(self):\n",
    "        return self._getMod(self.constitution)\n",
    "\n",
    "    def intMod(self):\n",
    "        return self._getMod(self.intelligence)\n",
    "    \n",
    "    def hammerAtkMod(self):\n",
    "        statMod = self.strMod()\n",
    "        magicMod = 0\n",
    "        if self.enhancedWeapon:\n",
    "            statMod = self.intMod()\n",
    "            magicMod = 1\n",
    "        return statMod + self.profBonus + magicMod\n",
    "\n"
   ]
  },
  {
   "cell_type": "code",
   "execution_count": 54,
   "metadata": {},
   "outputs": [
    {
     "output_type": "stream",
     "name": "stdout",
     "text": [
      "1\n5\n4\n5\n"
     ]
    }
   ],
   "source": [
    "b = Character([12, 16, 15, 20, 14, 11], 3)\n",
    "\n",
    "print(b.strMod())\n",
    "print(b.intMod())\n",
    "print(b.hammerAtkMod())\n",
    "b.enhancedWeapon = True\n",
    "print(b.hammerAtkMod())\n"
   ]
  },
  {
   "cell_type": "code",
   "execution_count": null,
   "metadata": {},
   "outputs": [],
   "source": []
  }
 ]
}